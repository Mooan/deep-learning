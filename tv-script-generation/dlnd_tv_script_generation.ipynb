{
 "cells": [
  {
   "cell_type": "markdown",
   "metadata": {},
   "source": [
    "# TV Script Generation\n",
    "In this project, you'll generate your own [Simpsons](https://en.wikipedia.org/wiki/The_Simpsons) TV scripts using RNNs.  You'll be using part of the [Simpsons dataset](https://www.kaggle.com/wcukierski/the-simpsons-by-the-data) of scripts from 27 seasons.  The Neural Network you'll build will generate a new TV script for a scene at [Moe's Tavern](https://simpsonswiki.com/wiki/Moe's_Tavern).\n",
    "## Get the Data\n",
    "The data is already provided for you.  You'll be using a subset of the original dataset.  It consists of only the scenes in Moe's Tavern.  This doesn't include other versions of the tavern, like \"Moe's Cavern\", \"Flaming Moe's\", \"Uncle Moe's Family Feed-Bag\", etc.."
   ]
  },
  {
   "cell_type": "code",
   "execution_count": 1,
   "metadata": {},
   "outputs": [],
   "source": [
    "\"\"\"\n",
    "DON'T MODIFY ANYTHING IN THIS CELL\n",
    "\"\"\"\n",
    "import helper\n",
    "\n",
    "data_dir = './data/simpsons/moes_tavern_lines.txt'\n",
    "text = helper.load_data(data_dir)\n",
    "# Ignore notice, since we don't use it for analysing the data\n",
    "text = text[81:]"
   ]
  },
  {
   "cell_type": "markdown",
   "metadata": {},
   "source": [
    "## Explore the Data\n",
    "Play around with `view_sentence_range` to view different parts of the data."
   ]
  },
  {
   "cell_type": "code",
   "execution_count": 2,
   "metadata": {},
   "outputs": [
    {
     "name": "stdout",
     "output_type": "stream",
     "text": [
      "Dataset Stats\n",
      "Roughly the number of unique words: 11492\n",
      "Number of scenes: 262\n",
      "Average number of sentences in each scene: 15.251908396946565\n",
      "Number of lines: 4258\n",
      "Average number of words in each line: 11.50164396430249\n",
      "\n",
      "The sentences 0 to 10:\n",
      "\n",
      "Moe_Szyslak: (INTO PHONE) Moe's Tavern. Where the elite meet to drink.\n",
      "Bart_Simpson: Eh, yeah, hello, is Mike there? Last name, Rotch.\n",
      "Moe_Szyslak: (INTO PHONE) Hold on, I'll check. (TO BARFLIES) Mike Rotch. Mike Rotch. Hey, has anybody seen Mike Rotch, lately?\n",
      "Moe_Szyslak: (INTO PHONE) Listen you little puke. One of these days I'm gonna catch you, and I'm gonna carve my name on your back with an ice pick.\n",
      "Moe_Szyslak: What's the matter Homer? You're not your normal effervescent self.\n",
      "Homer_Simpson: I got my problems, Moe. Give me another one.\n",
      "Moe_Szyslak: Homer, hey, you should not drink to forget your problems.\n",
      "Barney_Gumble: Yeah, you should only drink to enhance your social skills.\n",
      "\n"
     ]
    }
   ],
   "source": [
    "view_sentence_range = (0, 10)\n",
    "\n",
    "\"\"\"\n",
    "DON'T MODIFY ANYTHING IN THIS CELL\n",
    "\"\"\"\n",
    "import numpy as np\n",
    "\n",
    "print('Dataset Stats')\n",
    "print('Roughly the number of unique words: {}'.format(len({word: None for word in text.split()})))\n",
    "scenes = text.split('\\n\\n')\n",
    "print('Number of scenes: {}'.format(len(scenes)))\n",
    "sentence_count_scene = [scene.count('\\n') for scene in scenes]\n",
    "print('Average number of sentences in each scene: {}'.format(np.average(sentence_count_scene)))\n",
    "\n",
    "sentences = [sentence for scene in scenes for sentence in scene.split('\\n')]\n",
    "print('Number of lines: {}'.format(len(sentences)))\n",
    "word_count_sentence = [len(sentence.split()) for sentence in sentences]\n",
    "print('Average number of words in each line: {}'.format(np.average(word_count_sentence)))\n",
    "\n",
    "print()\n",
    "print('The sentences {} to {}:'.format(*view_sentence_range))\n",
    "print('\\n'.join(text.split('\\n')[view_sentence_range[0]:view_sentence_range[1]]))"
   ]
  },
  {
   "cell_type": "markdown",
   "metadata": {},
   "source": [
    "## Implement Preprocessing Functions\n",
    "The first thing to do to any dataset is preprocessing.  Implement the following preprocessing functions below:\n",
    "- Lookup Table\n",
    "- Tokenize Punctuation\n",
    "\n",
    "### Lookup Table\n",
    "To create a word embedding, you first need to transform the words to ids.  In this function, create two dictionaries:\n",
    "- Dictionary to go from the words to an id, we'll call `vocab_to_int`\n",
    "- Dictionary to go from the id to word, we'll call `int_to_vocab`\n",
    "\n",
    "Return these dictionaries in the following tuple `(vocab_to_int, int_to_vocab)`"
   ]
  },
  {
   "cell_type": "code",
   "execution_count": 3,
   "metadata": {},
   "outputs": [
    {
     "name": "stdout",
     "output_type": "stream",
     "text": [
      "Tests Passed\n"
     ]
    }
   ],
   "source": [
    "import numpy as np\n",
    "import problem_unittests as tests\n",
    "from collections import Counter\n",
    "\n",
    "def create_lookup_tables(text):\n",
    "    \"\"\"\n",
    "    Create lookup tables for vocabulary\n",
    "    :param text: The text of tv scripts split into words\n",
    "    :return: A tuple of dicts (vocab_to_int, int_to_vocab)\n",
    "    \"\"\"\n",
    "    # TODO: Implement Function\n",
    "    wc = Counter(text)\n",
    "    vocab_to_int = {word: idx for idx, word in enumerate(wc)}\n",
    "    int_to_vocab = {idx: word for idx, word in enumerate(wc)}\n",
    "    return vocab_to_int, int_to_vocab\n",
    "\n",
    "\n",
    "\"\"\"\n",
    "DON'T MODIFY ANYTHING IN THIS CELL THAT IS BELOW THIS LINE\n",
    "\"\"\"\n",
    "tests.test_create_lookup_tables(create_lookup_tables)"
   ]
  },
  {
   "cell_type": "markdown",
   "metadata": {},
   "source": [
    "### Tokenize Punctuation\n",
    "We'll be splitting the script into a word array using spaces as delimiters.  However, punctuations like periods and exclamation marks make it hard for the neural network to distinguish between the word \"bye\" and \"bye!\".\n",
    "\n",
    "Implement the function `token_lookup` to return a dict that will be used to tokenize symbols like \"!\" into \"||Exclamation_Mark||\".  Create a dictionary for the following symbols where the symbol is the key and value is the token:\n",
    "- Period ( . )\n",
    "- Comma ( , )\n",
    "- Quotation Mark ( \" )\n",
    "- Semicolon ( ; )\n",
    "- Exclamation mark ( ! )\n",
    "- Question mark ( ? )\n",
    "- Left Parentheses ( ( )\n",
    "- Right Parentheses ( ) )\n",
    "- Dash ( -- )\n",
    "- Return ( \\n )\n",
    "\n",
    "This dictionary will be used to token the symbols and add the delimiter (space) around it.  This separates the symbols as it's own word, making it easier for the neural network to predict on the next word. Make sure you don't use a token that could be confused as a word. Instead of using the token \"dash\", try using something like \"||dash||\"."
   ]
  },
  {
   "cell_type": "code",
   "execution_count": 4,
   "metadata": {},
   "outputs": [
    {
     "name": "stdout",
     "output_type": "stream",
     "text": [
      "Tests Passed\n"
     ]
    }
   ],
   "source": [
    "def token_lookup():\n",
    "    \"\"\"\n",
    "    Generate a dict to turn punctuation into a token.\n",
    "    :return: Tokenize dictionary where the key is the punctuation and the value is the token\n",
    "    \"\"\"\n",
    "    # TODO: Implement Function\n",
    "    return {\n",
    "        '.':  '||Period||',\n",
    "        ',':  '||Comma||',\n",
    "        '\"':  '||QuotationMark||',\n",
    "        ';':  '||Semicolon||',\n",
    "        '!':  '||Exclamationmark||',\n",
    "        '?':  '||Questionmark||',\n",
    "        '(':  '||LeftParentheses||',\n",
    "        ')':  '||RightParentheses||',\n",
    "        '--': '||Dash||',\n",
    "        '\\n': '||Return||'\n",
    "    }\n",
    "\n",
    "\"\"\"\n",
    "DON'T MODIFY ANYTHING IN THIS CELL THAT IS BELOW THIS LINE\n",
    "\"\"\"\n",
    "tests.test_tokenize(token_lookup)"
   ]
  },
  {
   "cell_type": "markdown",
   "metadata": {},
   "source": [
    "## Preprocess all the data and save it\n",
    "Running the code cell below will preprocess all the data and save it to file."
   ]
  },
  {
   "cell_type": "code",
   "execution_count": 5,
   "metadata": {},
   "outputs": [],
   "source": [
    "\"\"\"\n",
    "DON'T MODIFY ANYTHING IN THIS CELL\n",
    "\"\"\"\n",
    "# Preprocess Training, Validation, and Testing Data\n",
    "helper.preprocess_and_save_data(data_dir, token_lookup, create_lookup_tables)"
   ]
  },
  {
   "cell_type": "markdown",
   "metadata": {},
   "source": [
    "# Check Point\n",
    "This is your first checkpoint. If you ever decide to come back to this notebook or have to restart the notebook, you can start from here. The preprocessed data has been saved to disk."
   ]
  },
  {
   "cell_type": "code",
   "execution_count": 6,
   "metadata": {},
   "outputs": [],
   "source": [
    "\"\"\"\n",
    "DON'T MODIFY ANYTHING IN THIS CELL\n",
    "\"\"\"\n",
    "import helper\n",
    "import numpy as np\n",
    "import problem_unittests as tests\n",
    "\n",
    "int_text, vocab_to_int, int_to_vocab, token_dict = helper.load_preprocess()"
   ]
  },
  {
   "cell_type": "markdown",
   "metadata": {},
   "source": [
    "## Build the Neural Network\n",
    "You'll build the components necessary to build a RNN by implementing the following functions below:\n",
    "- get_inputs\n",
    "- get_init_cell\n",
    "- get_embed\n",
    "- build_rnn\n",
    "- build_nn\n",
    "- get_batches\n",
    "\n",
    "### Check the Version of TensorFlow and Access to GPU"
   ]
  },
  {
   "cell_type": "code",
   "execution_count": 7,
   "metadata": {},
   "outputs": [
    {
     "name": "stdout",
     "output_type": "stream",
     "text": [
      "TensorFlow Version: 1.1.0\n",
      "Default GPU Device: /gpu:0\n"
     ]
    }
   ],
   "source": [
    "\"\"\"\n",
    "DON'T MODIFY ANYTHING IN THIS CELL\n",
    "\"\"\"\n",
    "from distutils.version import LooseVersion\n",
    "import warnings\n",
    "import tensorflow as tf\n",
    "\n",
    "# Check TensorFlow Version\n",
    "assert LooseVersion(tf.__version__) >= LooseVersion('1.0'), 'Please use TensorFlow version 1.0 or newer'\n",
    "print('TensorFlow Version: {}'.format(tf.__version__))\n",
    "\n",
    "# Check for a GPU\n",
    "if not tf.test.gpu_device_name():\n",
    "    warnings.warn('No GPU found. Please use a GPU to train your neural network.')\n",
    "else:\n",
    "    print('Default GPU Device: {}'.format(tf.test.gpu_device_name()))"
   ]
  },
  {
   "cell_type": "markdown",
   "metadata": {},
   "source": [
    "### Input\n",
    "Implement the `get_inputs()` function to create TF Placeholders for the Neural Network.  It should create the following placeholders:\n",
    "- Input text placeholder named \"input\" using the [TF Placeholder](https://www.tensorflow.org/api_docs/python/tf/placeholder) `name` parameter.\n",
    "- Targets placeholder\n",
    "- Learning Rate placeholder\n",
    "\n",
    "Return the placeholders in the following tuple `(Input, Targets, LearningRate)`"
   ]
  },
  {
   "cell_type": "code",
   "execution_count": 8,
   "metadata": {},
   "outputs": [
    {
     "name": "stdout",
     "output_type": "stream",
     "text": [
      "Tests Passed\n"
     ]
    }
   ],
   "source": [
    "def get_inputs():\n",
    "    \"\"\"\n",
    "    Create TF Placeholders for input, targets, and learning rate.\n",
    "    :return: Tuple (input, targets, learning rate)\n",
    "    \"\"\"\n",
    "    # TODO: Implement Function\n",
    "    input_  = tf.placeholder(tf.int32, [None, None], name=\"input\")\n",
    "    target_ = tf.placeholder(tf.int32, [None, None])\n",
    "    learningrate = tf.placeholder(tf.float32)\n",
    "    return input_, target_, learningrate\n",
    "\n",
    "\n",
    "\"\"\"\n",
    "DON'T MODIFY ANYTHING IN THIS CELL THAT IS BELOW THIS LINE\n",
    "\"\"\"\n",
    "tests.test_get_inputs(get_inputs)"
   ]
  },
  {
   "cell_type": "markdown",
   "metadata": {},
   "source": [
    "### Build RNN Cell and Initialize\n",
    "Stack one or more [`BasicLSTMCells`](https://www.tensorflow.org/api_docs/python/tf/contrib/rnn/BasicLSTMCell) in a [`MultiRNNCell`](https://www.tensorflow.org/api_docs/python/tf/contrib/rnn/MultiRNNCell).\n",
    "- The Rnn size should be set using `rnn_size`\n",
    "- Initalize Cell State using the MultiRNNCell's [`zero_state()`](https://www.tensorflow.org/api_docs/python/tf/contrib/rnn/MultiRNNCell#zero_state) function\n",
    "    - Apply the name \"initial_state\" to the initial state using [`tf.identity()`](https://www.tensorflow.org/api_docs/python/tf/identity)\n",
    "\n",
    "Return the cell and initial state in the following tuple `(Cell, InitialState)`"
   ]
  },
  {
   "cell_type": "code",
   "execution_count": 9,
   "metadata": {},
   "outputs": [
    {
     "name": "stdout",
     "output_type": "stream",
     "text": [
      "Tests Passed\n"
     ]
    }
   ],
   "source": [
    "__initial_state = None\n",
    "def get_init_cell(batch_size, rnn_size):\n",
    "    \"\"\"\n",
    "    Create an RNN Cell and initialize it.\n",
    "    :param batch_size: Size of batches\n",
    "    :param rnn_size: Size of RNNs\n",
    "    :return: Tuple (cell, initialize state)\n",
    "    \"\"\"\n",
    "    # TODO: Implement Function\n",
    "    lstm_size = 100\n",
    "    \n",
    "    def build_cell(lstm_size):\n",
    "        lstm = tf.contrib.rnn.BasicLSTMCell(lstm_size)\n",
    "        drop = tf.contrib.rnn.DropoutWrapper(lstm)\n",
    "        return drop\n",
    "    \n",
    "    cell = tf.contrib.rnn.MultiRNNCell([build_cell(lstm_size) for _ in range(rnn_size)])\n",
    "    initial_state = cell.zero_state(batch_size, tf.float32)\n",
    "    #global __initial_state\n",
    "    #__initial_state = initial_state\n",
    "    initial_state = tf.identity(initial_state, name='initial_state')\n",
    "    return cell, initial_state\n",
    "\n",
    "\"\"\"\n",
    "DON'T MODIFY ANYTHING IN THIS CELL THAT IS BELOW THIS LINE\n",
    "\"\"\"\n",
    "tests.test_get_init_cell(get_init_cell)"
   ]
  },
  {
   "cell_type": "markdown",
   "metadata": {},
   "source": [
    "### Word Embedding\n",
    "Apply embedding to `input_data` using TensorFlow.  Return the embedded sequence."
   ]
  },
  {
   "cell_type": "code",
   "execution_count": 10,
   "metadata": {},
   "outputs": [
    {
     "name": "stdout",
     "output_type": "stream",
     "text": [
      "Tests Passed\n"
     ]
    }
   ],
   "source": [
    "def get_embed(input_data, vocab_size, embed_dim):\n",
    "    \"\"\"\n",
    "    Create embedding for <input_data>.\n",
    "    :param input_data: TF placeholder for text input.\n",
    "    :param vocab_size: Number of words in vocabulary.\n",
    "    :param embed_dim: Number of embedding dimensions\n",
    "    :return: Embedded input.\n",
    "    \"\"\"\n",
    "    # TODO: Implement Function\n",
    "    #embedding = tf.Variable(tf.truncated_normal((vocab_size, embed_dim), stddev=0.1))\n",
    "    embedding = tf.Variable(tf.random_uniform((vocab_size, embed_dim), -1, 1))\n",
    "    embed     = tf.nn.embedding_lookup(embedding, input_data)\n",
    "    return embed\n",
    "\n",
    "\n",
    "\"\"\"\n",
    "DON'T MODIFY ANYTHING IN THIS CELL THAT IS BELOW THIS LINE\n",
    "\"\"\"\n",
    "tests.test_get_embed(get_embed)"
   ]
  },
  {
   "cell_type": "markdown",
   "metadata": {},
   "source": [
    "### Build RNN\n",
    "You created a RNN Cell in the `get_init_cell()` function.  Time to use the cell to create a RNN.\n",
    "- Build the RNN using the [`tf.nn.dynamic_rnn()`](https://www.tensorflow.org/api_docs/python/tf/nn/dynamic_rnn)\n",
    " - Apply the name \"final_state\" to the final state using [`tf.identity()`](https://www.tensorflow.org/api_docs/python/tf/identity)\n",
    "\n",
    "Return the outputs and final_state state in the following tuple `(Outputs, FinalState)` "
   ]
  },
  {
   "cell_type": "code",
   "execution_count": 11,
   "metadata": {},
   "outputs": [
    {
     "name": "stdout",
     "output_type": "stream",
     "text": [
      "Tests Passed\n"
     ]
    }
   ],
   "source": [
    "def build_rnn(cell, inputs):\n",
    "    \"\"\"\n",
    "    Create a RNN using a RNN Cell\n",
    "    :param cell: RNN Cell\n",
    "    :param inputs: Input text data\n",
    "    :return: Tuple (Outputs, Final State)\n",
    "    \"\"\"\n",
    "    # TODO: Implement Function\n",
    "    output, finalstate = tf.nn.dynamic_rnn(cell, inputs, dtype=tf.float32) # Initial State?\n",
    "    #global __initial_state\n",
    "    #print(__initial_state)\n",
    "    #output, finalstate = tf.nn.dynamic_rnn(cell, inputs, initial_state=__initial_state)\n",
    "    finalstate = tf.identity(finalstate, name='final_state')\n",
    "    return output, finalstate\n",
    "\n",
    "\n",
    "\"\"\"\n",
    "DON'T MODIFY ANYTHING IN THIS CELL THAT IS BELOW THIS LINE\n",
    "\"\"\"\n",
    "tests.test_build_rnn(build_rnn)"
   ]
  },
  {
   "cell_type": "markdown",
   "metadata": {},
   "source": [
    "### Build the Neural Network\n",
    "Apply the functions you implemented above to:\n",
    "- Apply embedding to `input_data` using your `get_embed(input_data, vocab_size, embed_dim)` function.\n",
    "- Build RNN using `cell` and your `build_rnn(cell, inputs)` function.\n",
    "- Apply a fully connected layer with a linear activation and `vocab_size` as the number of outputs.\n",
    "\n",
    "Return the logits and final state in the following tuple (Logits, FinalState) "
   ]
  },
  {
   "cell_type": "code",
   "execution_count": 12,
   "metadata": {},
   "outputs": [
    {
     "name": "stdout",
     "output_type": "stream",
     "text": [
      "Tests Passed\n"
     ]
    }
   ],
   "source": [
    "def build_nn(cell, rnn_size, input_data, vocab_size, embed_dim):\n",
    "    \"\"\"\n",
    "    Build part of the neural network\n",
    "    :param cell: RNN cell\n",
    "    :param rnn_size: Size of rnns\n",
    "    :param input_data: Input data\n",
    "    :param vocab_size: Vocabulary size\n",
    "    :param embed_dim: Number of embedding dimensions\n",
    "    :return: Tuple (Logits, FinalState)\n",
    "    \"\"\"\n",
    "    # TODO: Implement Function\n",
    "    embed = get_embed(input_data, vocab_size, embed_dim)\n",
    "    output, finalstate = build_rnn(cell, embed)\n",
    "    logits = tf.contrib.layers.fully_connected(output, vocab_size, activation_fn=None)\n",
    "    return logits, finalstate\n",
    "\n",
    "\n",
    "\"\"\"\n",
    "DON'T MODIFY ANYTHING IN THIS CELL THAT IS BELOW THIS LINE\n",
    "\"\"\"\n",
    "tests.test_build_nn(build_nn)"
   ]
  },
  {
   "cell_type": "markdown",
   "metadata": {},
   "source": [
    "### Batches\n",
    "Implement `get_batches` to create batches of input and targets using `int_text`.  The batches should be a Numpy array with the shape `(number of batches, 2, batch size, sequence length)`. Each batch contains two elements:\n",
    "- The first element is a single batch of **input** with the shape `[batch size, sequence length]`\n",
    "- The second element is a single batch of **targets** with the shape `[batch size, sequence length]`\n",
    "\n",
    "If you can't fill the last batch with enough data, drop the last batch.\n",
    "\n",
    "For exmple, `get_batches([1, 2, 3, 4, 5, 6, 7, 8, 9, 10, 11, 12, 13, 14, 15, 16, 17, 18, 19, 20], 3, 2)` would return a Numpy array of the following:\n",
    "```\n",
    "[\n",
    "  # First Batch\n",
    "  [\n",
    "    # Batch of Input\n",
    "    [[ 1  2], [ 7  8], [13 14]]\n",
    "    # Batch of targets\n",
    "    [[ 2  3], [ 8  9], [14 15]]\n",
    "  ]\n",
    "\n",
    "  # Second Batch\n",
    "  [\n",
    "    # Batch of Input\n",
    "    [[ 3  4], [ 9 10], [15 16]]\n",
    "    # Batch of targets\n",
    "    [[ 4  5], [10 11], [16 17]]\n",
    "  ]\n",
    "\n",
    "  # Third Batch\n",
    "  [\n",
    "    # Batch of Input\n",
    "    [[ 5  6], [11 12], [17 18]]\n",
    "    # Batch of targets\n",
    "    [[ 6  7], [12 13], [18  1]]\n",
    "  ]\n",
    "]\n",
    "```\n",
    "\n",
    "Notice that the last target value in the last batch is the first input value of the first batch. In this case, `1`. This is a common technique used when creating sequence batches, although it is rather unintuitive."
   ]
  },
  {
   "cell_type": "code",
   "execution_count": 13,
   "metadata": {},
   "outputs": [
    {
     "name": "stdout",
     "output_type": "stream",
     "text": [
      "Tests Passed\n"
     ]
    }
   ],
   "source": [
    "def get_batches(int_text, batch_size, seq_length):\n",
    "    \"\"\"\n",
    "    Return batches of input and target\n",
    "    :param int_text: Text with the words replaced by their ids\n",
    "    :param batch_size: The size of batch\n",
    "    :param seq_length: The length of sequence\n",
    "    :return: Batches as a Numpy array\n",
    "    \"\"\"\n",
    "    # TODO: Implement Function\n",
    "    num_words_in_batch = batch_size*seq_length\n",
    "    num_batches = len(int_text) // (num_words_in_batch)\n",
    "    #print(\"int_text size = \", len(int_text) )\n",
    "    #print(\"batch size = {}, seq_length={}\".format(batch_size, seq_length))\n",
    "    #print(\"num words in batch = {}, num batches = {}\".format(num_words_in_batch, num_batches))\n",
    "    \n",
    "    int_text_in_batches = int_text[:num_batches*num_words_in_batch]\n",
    "    arr = np.zeros((num_batches, 2, batch_size, seq_length), dtype=np.int32)\n",
    "    \n",
    "    for i in range(num_batches):\n",
    "        for j in range(batch_size):\n",
    "            shift = (i*seq_length)+(j*seq_length*num_batches)\n",
    "            seq   = np.roll(int_text_in_batches, -shift)\n",
    "            arr[i,0,j,:] = seq[:seq_length]\n",
    "            arr[i,1,j,:] = seq[1:seq_length+1]\n",
    "    return arr\n",
    "\n",
    "\n",
    "\"\"\"\n",
    "DON'T MODIFY ANYTHING IN THIS CELL THAT IS BELOW THIS LINE\n",
    "\"\"\"\n",
    "tests.test_get_batches(get_batches)"
   ]
  },
  {
   "cell_type": "code",
   "execution_count": 14,
   "metadata": {},
   "outputs": [],
   "source": [
    "#get_batches([1, 2, 3, 4, 5, 6, 7, 8, 9, 10, 11, 12, 13, 14, 15, 16, 17, 18, 19, 20], 3, 2) "
   ]
  },
  {
   "cell_type": "markdown",
   "metadata": {},
   "source": [
    "## Neural Network Training\n",
    "### Hyperparameters\n",
    "Tune the following parameters:\n",
    "\n",
    "- Set `num_epochs` to the number of epochs.\n",
    "- Set `batch_size` to the batch size.\n",
    "- Set `rnn_size` to the size of the RNNs.\n",
    "- Set `embed_dim` to the size of the embedding.\n",
    "- Set `seq_length` to the length of sequence.\n",
    "- Set `learning_rate` to the learning rate.\n",
    "- Set `show_every_n_batches` to the number of batches the neural network should print progress."
   ]
  },
  {
   "cell_type": "code",
   "execution_count": 26,
   "metadata": {},
   "outputs": [],
   "source": [
    "# Number of Epochs\n",
    "num_epochs = 1000\n",
    "# Batch Size\n",
    "batch_size = 128\n",
    "# RNN Size\n",
    "rnn_size = 1\n",
    "# Embedding Dimension Size\n",
    "embed_dim = 1000\n",
    "# Sequence Length\n",
    "seq_length = 200\n",
    "# Learning Rate\n",
    "learning_rate = 0.001\n",
    "# Show stats for every n number of batches\n",
    "show_every_n_batches = 10\n",
    "\n",
    "\"\"\"\n",
    "DON'T MODIFY ANYTHING IN THIS CELL THAT IS BELOW THIS LINE\n",
    "\"\"\"\n",
    "save_dir = './save'"
   ]
  },
  {
   "cell_type": "markdown",
   "metadata": {},
   "source": [
    "### Build the Graph\n",
    "Build the graph using the neural network you implemented."
   ]
  },
  {
   "cell_type": "code",
   "execution_count": 27,
   "metadata": {},
   "outputs": [],
   "source": [
    "\"\"\"\n",
    "DON'T MODIFY ANYTHING IN THIS CELL\n",
    "\"\"\"\n",
    "from tensorflow.contrib import seq2seq\n",
    "\n",
    "train_graph = tf.Graph()\n",
    "with train_graph.as_default():\n",
    "    vocab_size = len(int_to_vocab)\n",
    "    input_text, targets, lr = get_inputs()\n",
    "    input_data_shape = tf.shape(input_text)\n",
    "    cell, initial_state = get_init_cell(input_data_shape[0], rnn_size)\n",
    "    logits, final_state = build_nn(cell, rnn_size, input_text, vocab_size, embed_dim)\n",
    "\n",
    "    # Probabilities for generating words\n",
    "    probs = tf.nn.softmax(logits, name='probs')\n",
    "\n",
    "    # Loss function\n",
    "    cost = seq2seq.sequence_loss(\n",
    "        logits,\n",
    "        targets,\n",
    "        tf.ones([input_data_shape[0], input_data_shape[1]]))\n",
    "\n",
    "    # Optimizer\n",
    "    optimizer = tf.train.AdamOptimizer(lr)\n",
    "\n",
    "    # Gradient Clipping\n",
    "    gradients = optimizer.compute_gradients(cost)\n",
    "    capped_gradients = [(tf.clip_by_value(grad, -1., 1.), var) for grad, var in gradients if grad is not None]\n",
    "    train_op = optimizer.apply_gradients(capped_gradients)"
   ]
  },
  {
   "cell_type": "markdown",
   "metadata": {},
   "source": [
    "## Train\n",
    "Train the neural network on the preprocessed data.  If you have a hard time getting a good loss, check the [forums](https://discussions.udacity.com/) to see if anyone is having the same problem."
   ]
  },
  {
   "cell_type": "code",
   "execution_count": 28,
   "metadata": {},
   "outputs": [
    {
     "name": "stdout",
     "output_type": "stream",
     "text": [
      "Epoch   0 Batch    0/2   train_loss = 8.825\n",
      "Epoch   5 Batch    0/2   train_loss = 8.214\n",
      "Epoch  10 Batch    0/2   train_loss = 6.988\n",
      "Epoch  15 Batch    0/2   train_loss = 6.182\n",
      "Epoch  20 Batch    0/2   train_loss = 5.850\n",
      "Epoch  25 Batch    0/2   train_loss = 5.733\n",
      "Epoch  30 Batch    0/2   train_loss = 5.663\n",
      "Epoch  35 Batch    0/2   train_loss = 5.593\n",
      "Epoch  40 Batch    0/2   train_loss = 5.524\n",
      "Epoch  45 Batch    0/2   train_loss = 5.452\n",
      "Epoch  50 Batch    0/2   train_loss = 5.381\n",
      "Epoch  55 Batch    0/2   train_loss = 5.313\n",
      "Epoch  60 Batch    0/2   train_loss = 5.249\n",
      "Epoch  65 Batch    0/2   train_loss = 5.189\n",
      "Epoch  70 Batch    0/2   train_loss = 5.131\n",
      "Epoch  75 Batch    0/2   train_loss = 5.073\n",
      "Epoch  80 Batch    0/2   train_loss = 5.017\n",
      "Epoch  85 Batch    0/2   train_loss = 4.960\n",
      "Epoch  90 Batch    0/2   train_loss = 4.905\n",
      "Epoch  95 Batch    0/2   train_loss = 4.849\n",
      "Epoch 100 Batch    0/2   train_loss = 4.791\n",
      "Epoch 105 Batch    0/2   train_loss = 4.736\n",
      "Epoch 110 Batch    0/2   train_loss = 4.680\n",
      "Epoch 115 Batch    0/2   train_loss = 4.622\n",
      "Epoch 120 Batch    0/2   train_loss = 4.566\n",
      "Epoch 125 Batch    0/2   train_loss = 4.510\n",
      "Epoch 130 Batch    0/2   train_loss = 4.455\n",
      "Epoch 135 Batch    0/2   train_loss = 4.401\n",
      "Epoch 140 Batch    0/2   train_loss = 4.349\n",
      "Epoch 145 Batch    0/2   train_loss = 4.298\n",
      "Epoch 150 Batch    0/2   train_loss = 4.248\n",
      "Epoch 155 Batch    0/2   train_loss = 4.200\n",
      "Epoch 160 Batch    0/2   train_loss = 4.154\n",
      "Epoch 165 Batch    0/2   train_loss = 4.109\n",
      "Epoch 170 Batch    0/2   train_loss = 4.066\n",
      "Epoch 175 Batch    0/2   train_loss = 4.024\n",
      "Epoch 180 Batch    0/2   train_loss = 3.984\n",
      "Epoch 185 Batch    0/2   train_loss = 3.944\n",
      "Epoch 190 Batch    0/2   train_loss = 3.906\n",
      "Epoch 195 Batch    0/2   train_loss = 3.869\n",
      "Epoch 200 Batch    0/2   train_loss = 3.833\n",
      "Epoch 205 Batch    0/2   train_loss = 3.797\n",
      "Epoch 210 Batch    0/2   train_loss = 3.763\n",
      "Epoch 215 Batch    0/2   train_loss = 3.729\n",
      "Epoch 220 Batch    0/2   train_loss = 3.696\n",
      "Epoch 225 Batch    0/2   train_loss = 3.664\n",
      "Epoch 230 Batch    0/2   train_loss = 3.633\n",
      "Epoch 235 Batch    0/2   train_loss = 3.603\n",
      "Epoch 240 Batch    0/2   train_loss = 3.574\n",
      "Epoch 245 Batch    0/2   train_loss = 3.545\n",
      "Epoch 250 Batch    0/2   train_loss = 3.518\n",
      "Epoch 255 Batch    0/2   train_loss = 3.490\n",
      "Epoch 260 Batch    0/2   train_loss = 3.464\n",
      "Epoch 265 Batch    0/2   train_loss = 3.438\n",
      "Epoch 270 Batch    0/2   train_loss = 3.413\n",
      "Epoch 275 Batch    0/2   train_loss = 3.389\n",
      "Epoch 280 Batch    0/2   train_loss = 3.365\n",
      "Epoch 285 Batch    0/2   train_loss = 3.342\n",
      "Epoch 290 Batch    0/2   train_loss = 3.319\n",
      "Epoch 295 Batch    0/2   train_loss = 3.297\n",
      "Epoch 300 Batch    0/2   train_loss = 3.275\n",
      "Epoch 305 Batch    0/2   train_loss = 3.254\n",
      "Epoch 310 Batch    0/2   train_loss = 3.233\n",
      "Epoch 315 Batch    0/2   train_loss = 3.212\n",
      "Epoch 320 Batch    0/2   train_loss = 3.192\n",
      "Epoch 325 Batch    0/2   train_loss = 3.171\n",
      "Epoch 330 Batch    0/2   train_loss = 3.152\n",
      "Epoch 335 Batch    0/2   train_loss = 3.132\n",
      "Epoch 340 Batch    0/2   train_loss = 3.113\n",
      "Epoch 345 Batch    0/2   train_loss = 3.094\n",
      "Epoch 350 Batch    0/2   train_loss = 3.075\n",
      "Epoch 355 Batch    0/2   train_loss = 3.057\n",
      "Epoch 360 Batch    0/2   train_loss = 3.038\n",
      "Epoch 365 Batch    0/2   train_loss = 3.020\n",
      "Epoch 370 Batch    0/2   train_loss = 3.001\n",
      "Epoch 375 Batch    0/2   train_loss = 2.983\n",
      "Epoch 380 Batch    0/2   train_loss = 2.965\n",
      "Epoch 385 Batch    0/2   train_loss = 2.947\n",
      "Epoch 390 Batch    0/2   train_loss = 2.929\n",
      "Epoch 395 Batch    0/2   train_loss = 2.911\n",
      "Epoch 400 Batch    0/2   train_loss = 2.894\n",
      "Epoch 405 Batch    0/2   train_loss = 2.876\n",
      "Epoch 410 Batch    0/2   train_loss = 2.858\n",
      "Epoch 415 Batch    0/2   train_loss = 2.839\n",
      "Epoch 420 Batch    0/2   train_loss = 2.821\n",
      "Epoch 425 Batch    0/2   train_loss = 2.802\n",
      "Epoch 430 Batch    0/2   train_loss = 2.783\n",
      "Epoch 435 Batch    0/2   train_loss = 2.765\n",
      "Epoch 440 Batch    0/2   train_loss = 2.746\n",
      "Epoch 445 Batch    0/2   train_loss = 2.727\n",
      "Epoch 450 Batch    0/2   train_loss = 2.708\n",
      "Epoch 455 Batch    0/2   train_loss = 2.690\n",
      "Epoch 460 Batch    0/2   train_loss = 2.670\n",
      "Epoch 465 Batch    0/2   train_loss = 2.651\n",
      "Epoch 470 Batch    0/2   train_loss = 2.631\n",
      "Epoch 475 Batch    0/2   train_loss = 2.612\n",
      "Epoch 480 Batch    0/2   train_loss = 2.593\n",
      "Epoch 485 Batch    0/2   train_loss = 2.573\n",
      "Epoch 490 Batch    0/2   train_loss = 2.554\n",
      "Epoch 495 Batch    0/2   train_loss = 2.534\n",
      "Epoch 500 Batch    0/2   train_loss = 2.513\n",
      "Epoch 505 Batch    0/2   train_loss = 2.495\n",
      "Epoch 510 Batch    0/2   train_loss = 2.475\n",
      "Epoch 515 Batch    0/2   train_loss = 2.454\n",
      "Epoch 520 Batch    0/2   train_loss = 2.435\n",
      "Epoch 525 Batch    0/2   train_loss = 2.415\n",
      "Epoch 530 Batch    0/2   train_loss = 2.394\n",
      "Epoch 535 Batch    0/2   train_loss = 2.373\n",
      "Epoch 540 Batch    0/2   train_loss = 2.353\n",
      "Epoch 545 Batch    0/2   train_loss = 2.335\n",
      "Epoch 550 Batch    0/2   train_loss = 2.313\n",
      "Epoch 555 Batch    0/2   train_loss = 2.293\n",
      "Epoch 560 Batch    0/2   train_loss = 2.273\n",
      "Epoch 565 Batch    0/2   train_loss = 2.254\n",
      "Epoch 570 Batch    0/2   train_loss = 2.234\n",
      "Epoch 575 Batch    0/2   train_loss = 2.213\n",
      "Epoch 580 Batch    0/2   train_loss = 2.193\n",
      "Epoch 585 Batch    0/2   train_loss = 2.174\n",
      "Epoch 590 Batch    0/2   train_loss = 2.154\n",
      "Epoch 595 Batch    0/2   train_loss = 2.135\n",
      "Epoch 600 Batch    0/2   train_loss = 2.115\n",
      "Epoch 605 Batch    0/2   train_loss = 2.095\n",
      "Epoch 610 Batch    0/2   train_loss = 2.076\n",
      "Epoch 615 Batch    0/2   train_loss = 2.056\n",
      "Epoch 620 Batch    0/2   train_loss = 2.037\n",
      "Epoch 625 Batch    0/2   train_loss = 2.018\n",
      "Epoch 630 Batch    0/2   train_loss = 1.998\n",
      "Epoch 635 Batch    0/2   train_loss = 1.980\n",
      "Epoch 640 Batch    0/2   train_loss = 1.968\n",
      "Epoch 645 Batch    0/2   train_loss = 1.946\n",
      "Epoch 650 Batch    0/2   train_loss = 1.927\n",
      "Epoch 655 Batch    0/2   train_loss = 1.910\n",
      "Epoch 660 Batch    0/2   train_loss = 1.891\n",
      "Epoch 665 Batch    0/2   train_loss = 1.876\n",
      "Epoch 670 Batch    0/2   train_loss = 1.858\n",
      "Epoch 675 Batch    0/2   train_loss = 1.839\n",
      "Epoch 680 Batch    0/2   train_loss = 1.823\n",
      "Epoch 685 Batch    0/2   train_loss = 1.807\n",
      "Epoch 690 Batch    0/2   train_loss = 1.789\n",
      "Epoch 695 Batch    0/2   train_loss = 1.773\n",
      "Epoch 700 Batch    0/2   train_loss = 1.757\n",
      "Epoch 705 Batch    0/2   train_loss = 1.743\n",
      "Epoch 710 Batch    0/2   train_loss = 1.726\n",
      "Epoch 715 Batch    0/2   train_loss = 1.710\n",
      "Epoch 720 Batch    0/2   train_loss = 1.696\n",
      "Epoch 725 Batch    0/2   train_loss = 1.678\n",
      "Epoch 730 Batch    0/2   train_loss = 1.663\n",
      "Epoch 735 Batch    0/2   train_loss = 1.646\n",
      "Epoch 740 Batch    0/2   train_loss = 1.630\n",
      "Epoch 745 Batch    0/2   train_loss = 1.613\n",
      "Epoch 750 Batch    0/2   train_loss = 1.602\n",
      "Epoch 755 Batch    0/2   train_loss = 1.585\n",
      "Epoch 760 Batch    0/2   train_loss = 1.571\n",
      "Epoch 765 Batch    0/2   train_loss = 1.558\n",
      "Epoch 770 Batch    0/2   train_loss = 1.546\n",
      "Epoch 775 Batch    0/2   train_loss = 1.537\n",
      "Epoch 780 Batch    0/2   train_loss = 1.520\n",
      "Epoch 785 Batch    0/2   train_loss = 1.508\n",
      "Epoch 790 Batch    0/2   train_loss = 1.495\n",
      "Epoch 795 Batch    0/2   train_loss = 1.490\n",
      "Epoch 800 Batch    0/2   train_loss = 1.470\n",
      "Epoch 805 Batch    0/2   train_loss = 1.451\n",
      "Epoch 810 Batch    0/2   train_loss = 1.437\n",
      "Epoch 815 Batch    0/2   train_loss = 1.423\n",
      "Epoch 820 Batch    0/2   train_loss = 1.410\n",
      "Epoch 825 Batch    0/2   train_loss = 1.401\n",
      "Epoch 830 Batch    0/2   train_loss = 1.389\n",
      "Epoch 835 Batch    0/2   train_loss = 1.377\n",
      "Epoch 840 Batch    0/2   train_loss = 1.364\n",
      "Epoch 845 Batch    0/2   train_loss = 1.350\n",
      "Epoch 850 Batch    0/2   train_loss = 1.338\n",
      "Epoch 855 Batch    0/2   train_loss = 1.326\n",
      "Epoch 860 Batch    0/2   train_loss = 1.321\n",
      "Epoch 865 Batch    0/2   train_loss = 1.312\n",
      "Epoch 870 Batch    0/2   train_loss = 1.305\n",
      "Epoch 875 Batch    0/2   train_loss = 1.289\n",
      "Epoch 880 Batch    0/2   train_loss = 1.272\n",
      "Epoch 885 Batch    0/2   train_loss = 1.259\n",
      "Epoch 890 Batch    0/2   train_loss = 1.264\n",
      "Epoch 895 Batch    0/2   train_loss = 1.252\n",
      "Epoch 900 Batch    0/2   train_loss = 1.236\n",
      "Epoch 905 Batch    0/2   train_loss = 1.226\n",
      "Epoch 910 Batch    0/2   train_loss = 1.213\n",
      "Epoch 915 Batch    0/2   train_loss = 1.201\n",
      "Epoch 920 Batch    0/2   train_loss = 1.189\n",
      "Epoch 925 Batch    0/2   train_loss = 1.182\n",
      "Epoch 930 Batch    0/2   train_loss = 1.169\n"
     ]
    },
    {
     "name": "stdout",
     "output_type": "stream",
     "text": [
      "Epoch 935 Batch    0/2   train_loss = 1.162\n",
      "Epoch 940 Batch    0/2   train_loss = 1.152\n",
      "Epoch 945 Batch    0/2   train_loss = 1.141\n",
      "Epoch 950 Batch    0/2   train_loss = 1.130\n",
      "Epoch 955 Batch    0/2   train_loss = 1.119\n",
      "Epoch 960 Batch    0/2   train_loss = 1.111\n",
      "Epoch 965 Batch    0/2   train_loss = 1.104\n",
      "Epoch 970 Batch    0/2   train_loss = 1.098\n",
      "Epoch 975 Batch    0/2   train_loss = 1.087\n",
      "Epoch 980 Batch    0/2   train_loss = 1.079\n",
      "Epoch 985 Batch    0/2   train_loss = 1.065\n",
      "Epoch 990 Batch    0/2   train_loss = 1.055\n",
      "Epoch 995 Batch    0/2   train_loss = 1.047\n",
      "Model Trained and Saved\n"
     ]
    }
   ],
   "source": [
    "\"\"\"\n",
    "DON'T MODIFY ANYTHING IN THIS CELL\n",
    "\"\"\"\n",
    "batches = get_batches(int_text, batch_size, seq_length)\n",
    "\n",
    "with tf.Session(graph=train_graph) as sess:\n",
    "    sess.run(tf.global_variables_initializer())\n",
    "\n",
    "    for epoch_i in range(num_epochs):\n",
    "        state = sess.run(initial_state, {input_text: batches[0][0]})\n",
    "\n",
    "        for batch_i, (x, y) in enumerate(batches):\n",
    "            feed = {\n",
    "                input_text: x,\n",
    "                targets: y,\n",
    "                initial_state: state,\n",
    "                lr: learning_rate}\n",
    "            train_loss, state, _ = sess.run([cost, final_state, train_op], feed)\n",
    "\n",
    "            # Show every <show_every_n_batches> batches\n",
    "            if (epoch_i * len(batches) + batch_i) % show_every_n_batches == 0:\n",
    "                print('Epoch {:>3} Batch {:>4}/{}   train_loss = {:.3f}'.format(\n",
    "                    epoch_i,\n",
    "                    batch_i,\n",
    "                    len(batches),\n",
    "                    train_loss))\n",
    "\n",
    "    # Save Model\n",
    "    saver = tf.train.Saver()\n",
    "    saver.save(sess, save_dir)\n",
    "    print('Model Trained and Saved')"
   ]
  },
  {
   "cell_type": "markdown",
   "metadata": {},
   "source": [
    "## Save Parameters\n",
    "Save `seq_length` and `save_dir` for generating a new TV script."
   ]
  },
  {
   "cell_type": "code",
   "execution_count": 29,
   "metadata": {},
   "outputs": [],
   "source": [
    "\"\"\"\n",
    "DON'T MODIFY ANYTHING IN THIS CELL\n",
    "\"\"\"\n",
    "# Save parameters for checkpoint\n",
    "helper.save_params((seq_length, save_dir))"
   ]
  },
  {
   "cell_type": "markdown",
   "metadata": {},
   "source": [
    "# Checkpoint"
   ]
  },
  {
   "cell_type": "code",
   "execution_count": 30,
   "metadata": {},
   "outputs": [],
   "source": [
    "\"\"\"\n",
    "DON'T MODIFY ANYTHING IN THIS CELL\n",
    "\"\"\"\n",
    "import tensorflow as tf\n",
    "import numpy as np\n",
    "import helper\n",
    "import problem_unittests as tests\n",
    "\n",
    "_, vocab_to_int, int_to_vocab, token_dict = helper.load_preprocess()\n",
    "seq_length, load_dir = helper.load_params()"
   ]
  },
  {
   "cell_type": "markdown",
   "metadata": {},
   "source": [
    "## Implement Generate Functions\n",
    "### Get Tensors\n",
    "Get tensors from `loaded_graph` using the function [`get_tensor_by_name()`](https://www.tensorflow.org/api_docs/python/tf/Graph#get_tensor_by_name).  Get the tensors using the following names:\n",
    "- \"input:0\"\n",
    "- \"initial_state:0\"\n",
    "- \"final_state:0\"\n",
    "- \"probs:0\"\n",
    "\n",
    "Return the tensors in the following tuple `(InputTensor, InitialStateTensor, FinalStateTensor, ProbsTensor)` "
   ]
  },
  {
   "cell_type": "code",
   "execution_count": 31,
   "metadata": {},
   "outputs": [
    {
     "name": "stdout",
     "output_type": "stream",
     "text": [
      "Tests Passed\n"
     ]
    }
   ],
   "source": [
    "def get_tensors(loaded_graph):\n",
    "    \"\"\"\n",
    "    Get input, initial state, final state, and probabilities tensor from <loaded_graph>\n",
    "    :param loaded_graph: TensorFlow graph loaded from file\n",
    "    :return: Tuple (InputTensor, InitialStateTensor, FinalStateTensor, ProbsTensor)\n",
    "    \"\"\"\n",
    "    # TODO: Implement Function\n",
    "    _input         = loaded_graph.get_tensor_by_name(\"input:0\")\n",
    "    _initial_state = loaded_graph.get_tensor_by_name(\"initial_state:0\")\n",
    "    _final_state   = loaded_graph.get_tensor_by_name(\"final_state:0\")\n",
    "    _probs         = loaded_graph.get_tensor_by_name(\"probs:0\")\n",
    "    return _input, _initial_state, _final_state, _probs\n",
    "\n",
    "\n",
    "\"\"\"\n",
    "DON'T MODIFY ANYTHING IN THIS CELL THAT IS BELOW THIS LINE\n",
    "\"\"\"\n",
    "tests.test_get_tensors(get_tensors)"
   ]
  },
  {
   "cell_type": "markdown",
   "metadata": {},
   "source": [
    "### Choose Word\n",
    "Implement the `pick_word()` function to select the next word using `probabilities`."
   ]
  },
  {
   "cell_type": "code",
   "execution_count": 32,
   "metadata": {},
   "outputs": [
    {
     "name": "stdout",
     "output_type": "stream",
     "text": [
      "Tests Passed\n"
     ]
    }
   ],
   "source": [
    "def pick_word(probabilities, int_to_vocab):\n",
    "    \"\"\"\n",
    "    Pick the next word in the generated text\n",
    "    :param probabilities: Probabilites of the next word\n",
    "    :param int_to_vocab: Dictionary of word ids as the keys and words as the values\n",
    "    :return: String of the predicted word\n",
    "    \"\"\"\n",
    "    # TODO: Implement Function\n",
    "    return int_to_vocab[np.argmax(probabilities)]\n",
    "\n",
    "\n",
    "\"\"\"\n",
    "DON'T MODIFY ANYTHING IN THIS CELL THAT IS BELOW THIS LINE\n",
    "\"\"\"\n",
    "tests.test_pick_word(pick_word)"
   ]
  },
  {
   "cell_type": "markdown",
   "metadata": {},
   "source": [
    "## Generate TV Script\n",
    "This will generate the TV script for you.  Set `gen_length` to the length of TV script you want to generate."
   ]
  },
  {
   "cell_type": "code",
   "execution_count": 33,
   "metadata": {},
   "outputs": [
    {
     "name": "stdout",
     "output_type": "stream",
     "text": [
      "INFO:tensorflow:Restoring parameters from ./save\n",
      "moe_szyslak: oh, boy!(sighs)\n",
      "\n",
      "\n",
      "homer_simpson:(to self) i, i'll just a little more) oh, boy.\n",
      "homer_simpson: oh, you sure look, but your ass.\n",
      "homer_simpson:(to moe) oh, homer, you sure look like that motel across the street.\n",
      "homer_simpson:(gasp) you want to marge)\n",
      "homer_simpson:(touched) yeah, yeah, lenny.\n",
      "homer_simpson: fine...........\n",
      "homer_simpson:(to homer)\n",
      "moe_szyslak: oh, homer, you sure?\n",
      "homer_simpson:(to self, happily) my god, homer, i didn't see that, i didn't say that can steal?\n",
      "homer_simpson:(to self) oh, homer, you sure look at the\" flaming moe\"....................\n",
      "moe_szyslak:(to moe) oh, homer, you guys aren't as it.\n",
      "moe_szyslak:(to moe) hey, homer, handsome\n"
     ]
    }
   ],
   "source": [
    "gen_length = 200\n",
    "# homer_simpson, moe_szyslak, or Barney_Gumble\n",
    "prime_word = 'moe_szyslak'\n",
    "\n",
    "\"\"\"\n",
    "DON'T MODIFY ANYTHING IN THIS CELL THAT IS BELOW THIS LINE\n",
    "\"\"\"\n",
    "loaded_graph = tf.Graph()\n",
    "with tf.Session(graph=loaded_graph) as sess:\n",
    "    # Load saved model\n",
    "    loader = tf.train.import_meta_graph(load_dir + '.meta')\n",
    "    loader.restore(sess, load_dir)\n",
    "\n",
    "    # Get Tensors from loaded model\n",
    "    input_text, initial_state, final_state, probs = get_tensors(loaded_graph)\n",
    "\n",
    "    # Sentences generation setup\n",
    "    gen_sentences = [prime_word + ':']\n",
    "    prev_state = sess.run(initial_state, {input_text: np.array([[1]])})\n",
    "\n",
    "    # Generate sentences\n",
    "    for n in range(gen_length):\n",
    "        # Dynamic Input\n",
    "        dyn_input = [[vocab_to_int[word] for word in gen_sentences[-seq_length:]]]\n",
    "        dyn_seq_length = len(dyn_input[0])\n",
    "\n",
    "        # Get Prediction\n",
    "        probabilities, prev_state = sess.run(\n",
    "            [probs, final_state],\n",
    "            {input_text: dyn_input, initial_state: prev_state})\n",
    "        \n",
    "        pred_word = pick_word(probabilities[dyn_seq_length-1], int_to_vocab)\n",
    "\n",
    "        gen_sentences.append(pred_word)\n",
    "    \n",
    "    # Remove tokens\n",
    "    tv_script = ' '.join(gen_sentences)\n",
    "    for key, token in token_dict.items():\n",
    "        ending = ' ' if key in ['\\n', '(', '\"'] else ''\n",
    "        tv_script = tv_script.replace(' ' + token.lower(), key)\n",
    "    tv_script = tv_script.replace('\\n ', '\\n')\n",
    "    tv_script = tv_script.replace('( ', '(')\n",
    "        \n",
    "    print(tv_script)"
   ]
  },
  {
   "cell_type": "markdown",
   "metadata": {},
   "source": [
    "# The TV Script is Nonsensical\n",
    "It's ok if the TV script doesn't make any sense.  We trained on less than a megabyte of text.  In order to get good results, you'll have to use a smaller vocabulary or get more data.  Luckly there's more data!  As we mentioned in the begging of this project, this is a subset of [another dataset](https://www.kaggle.com/wcukierski/the-simpsons-by-the-data).  We didn't have you train on all the data, because that would take too long.  However, you are free to train your neural network on all the data.  After you complete the project, of course.\n",
    "# Submitting This Project\n",
    "When submitting this project, make sure to run all the cells before saving the notebook. Save the notebook file as \"dlnd_tv_script_generation.ipynb\" and save it as a HTML file under \"File\" -> \"Download as\". Include the \"helper.py\" and \"problem_unittests.py\" files in your submission."
   ]
  },
  {
   "cell_type": "code",
   "execution_count": null,
   "metadata": {},
   "outputs": [],
   "source": []
  }
 ],
 "metadata": {
  "kernelspec": {
   "display_name": "Python 3",
   "language": "python",
   "name": "python3"
  },
  "language_info": {
   "codemirror_mode": {
    "name": "ipython",
    "version": 3
   },
   "file_extension": ".py",
   "mimetype": "text/x-python",
   "name": "python",
   "nbconvert_exporter": "python",
   "pygments_lexer": "ipython3",
   "version": "3.6.3"
  },
  "widgets": {
   "state": {},
   "version": "1.1.2"
  }
 },
 "nbformat": 4,
 "nbformat_minor": 1
}
